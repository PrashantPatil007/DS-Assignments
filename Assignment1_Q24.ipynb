{
 "cells": [
  {
   "cell_type": "markdown",
   "id": "5495219a",
   "metadata": {},
   "source": [
    "# Q24"
   ]
  },
  {
   "cell_type": "code",
   "execution_count": 1,
   "id": "6b8c7edf",
   "metadata": {},
   "outputs": [],
   "source": [
    "import scipy.stats as stats\n",
    "\n",
    "# Given values\n",
    "mu = 270 # Population mean\n",
    "n = 18 # Sample size\n",
    "x_bar = 260 # Sample mean\n",
    "s = 90 # Sample standard deviation"
   ]
  },
  {
   "cell_type": "code",
   "execution_count": 3,
   "id": "6e848b9d",
   "metadata": {},
   "outputs": [
    {
     "data": {
      "text/plain": [
       "-0.4714045207910317"
      ]
     },
     "execution_count": 3,
     "metadata": {},
     "output_type": "execute_result"
    }
   ],
   "source": [
    "#t-value\n",
    "t = (x_bar - mu) / (s / (n**0.5))\n",
    "t"
   ]
  },
  {
   "cell_type": "code",
   "execution_count": 4,
   "id": "b073f7fc",
   "metadata": {},
   "outputs": [
    {
     "data": {
      "text/plain": [
       "17"
      ]
     },
     "execution_count": 4,
     "metadata": {},
     "output_type": "execute_result"
    }
   ],
   "source": [
    "# degrees of freedom\n",
    "df = n - 1\n",
    "df"
   ]
  },
  {
   "cell_type": "code",
   "execution_count": 5,
   "id": "fc2d7f96",
   "metadata": {},
   "outputs": [],
   "source": [
    "# Calculate p-value using CDF\n",
    "p_value = stats.t.cdf(t, df)\n",
    "\n",
    "# Percentage p-value \n",
    "p_value_percent = p_value * 100\n"
   ]
  },
  {
   "cell_type": "code",
   "execution_count": 6,
   "id": "cccfce41",
   "metadata": {},
   "outputs": [
    {
     "data": {
      "text/plain": [
       "32.16725356709836"
      ]
     },
     "execution_count": 6,
     "metadata": {},
     "output_type": "execute_result"
    }
   ],
   "source": [
    "p_value_percent"
   ]
  },
  {
   "cell_type": "code",
   "execution_count": null,
   "id": "ef04ff14",
   "metadata": {},
   "outputs": [],
   "source": []
  }
 ],
 "metadata": {
  "kernelspec": {
   "display_name": "Python 3 (ipykernel)",
   "language": "python",
   "name": "python3"
  },
  "language_info": {
   "codemirror_mode": {
    "name": "ipython",
    "version": 3
   },
   "file_extension": ".py",
   "mimetype": "text/x-python",
   "name": "python",
   "nbconvert_exporter": "python",
   "pygments_lexer": "ipython3",
   "version": "3.10.9"
  }
 },
 "nbformat": 4,
 "nbformat_minor": 5
}
