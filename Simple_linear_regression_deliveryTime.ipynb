{
 "cells": [
  {
   "cell_type": "markdown",
   "id": "169d89c8",
   "metadata": {},
   "source": [
    "# Simple regression- Delivery time problem"
   ]
  },
  {
   "cell_type": "code",
   "execution_count": 1,
   "id": "b822a435",
   "metadata": {},
   "outputs": [],
   "source": [
    "import pandas as pd"
   ]
  },
  {
   "cell_type": "code",
   "execution_count": 2,
   "id": "41849a1f",
   "metadata": {},
   "outputs": [],
   "source": [
    "data=pd.read_csv(\"D:\\DS Assignments\\Assignment 4\\delivery_time.csv\")"
   ]
  },
  {
   "cell_type": "code",
   "execution_count": 3,
   "id": "0d7fa958",
   "metadata": {},
   "outputs": [
    {
     "data": {
      "text/html": [
       "<div>\n",
       "<style scoped>\n",
       "    .dataframe tbody tr th:only-of-type {\n",
       "        vertical-align: middle;\n",
       "    }\n",
       "\n",
       "    .dataframe tbody tr th {\n",
       "        vertical-align: top;\n",
       "    }\n",
       "\n",
       "    .dataframe thead th {\n",
       "        text-align: right;\n",
       "    }\n",
       "</style>\n",
       "<table border=\"1\" class=\"dataframe\">\n",
       "  <thead>\n",
       "    <tr style=\"text-align: right;\">\n",
       "      <th></th>\n",
       "      <th>Delivery Time</th>\n",
       "      <th>Sorting Time</th>\n",
       "    </tr>\n",
       "  </thead>\n",
       "  <tbody>\n",
       "    <tr>\n",
       "      <th>count</th>\n",
       "      <td>21.000000</td>\n",
       "      <td>21.000000</td>\n",
       "    </tr>\n",
       "    <tr>\n",
       "      <th>mean</th>\n",
       "      <td>16.790952</td>\n",
       "      <td>6.190476</td>\n",
       "    </tr>\n",
       "    <tr>\n",
       "      <th>std</th>\n",
       "      <td>5.074901</td>\n",
       "      <td>2.542028</td>\n",
       "    </tr>\n",
       "    <tr>\n",
       "      <th>min</th>\n",
       "      <td>8.000000</td>\n",
       "      <td>2.000000</td>\n",
       "    </tr>\n",
       "    <tr>\n",
       "      <th>25%</th>\n",
       "      <td>13.500000</td>\n",
       "      <td>4.000000</td>\n",
       "    </tr>\n",
       "    <tr>\n",
       "      <th>50%</th>\n",
       "      <td>17.830000</td>\n",
       "      <td>6.000000</td>\n",
       "    </tr>\n",
       "    <tr>\n",
       "      <th>75%</th>\n",
       "      <td>19.750000</td>\n",
       "      <td>8.000000</td>\n",
       "    </tr>\n",
       "    <tr>\n",
       "      <th>max</th>\n",
       "      <td>29.000000</td>\n",
       "      <td>10.000000</td>\n",
       "    </tr>\n",
       "  </tbody>\n",
       "</table>\n",
       "</div>"
      ],
      "text/plain": [
       "       Delivery Time  Sorting Time\n",
       "count      21.000000     21.000000\n",
       "mean       16.790952      6.190476\n",
       "std         5.074901      2.542028\n",
       "min         8.000000      2.000000\n",
       "25%        13.500000      4.000000\n",
       "50%        17.830000      6.000000\n",
       "75%        19.750000      8.000000\n",
       "max        29.000000     10.000000"
      ]
     },
     "execution_count": 3,
     "metadata": {},
     "output_type": "execute_result"
    }
   ],
   "source": [
    "data.describe()"
   ]
  },
  {
   "cell_type": "code",
   "execution_count": 4,
   "id": "ef50dcdd",
   "metadata": {},
   "outputs": [],
   "source": [
    "#Rename column names as sorting time= X and Delivery time = Y\n",
    "data = data.rename(columns={'Sorting Time': 'X', 'Delivery Time': 'Y'})"
   ]
  },
  {
   "cell_type": "code",
   "execution_count": 5,
   "id": "89ece49f",
   "metadata": {},
   "outputs": [
    {
     "data": {
      "text/html": [
       "<div>\n",
       "<style scoped>\n",
       "    .dataframe tbody tr th:only-of-type {\n",
       "        vertical-align: middle;\n",
       "    }\n",
       "\n",
       "    .dataframe tbody tr th {\n",
       "        vertical-align: top;\n",
       "    }\n",
       "\n",
       "    .dataframe thead th {\n",
       "        text-align: right;\n",
       "    }\n",
       "</style>\n",
       "<table border=\"1\" class=\"dataframe\">\n",
       "  <thead>\n",
       "    <tr style=\"text-align: right;\">\n",
       "      <th></th>\n",
       "      <th>Y</th>\n",
       "      <th>X</th>\n",
       "    </tr>\n",
       "  </thead>\n",
       "  <tbody>\n",
       "    <tr>\n",
       "      <th>0</th>\n",
       "      <td>21.00</td>\n",
       "      <td>10</td>\n",
       "    </tr>\n",
       "    <tr>\n",
       "      <th>1</th>\n",
       "      <td>13.50</td>\n",
       "      <td>4</td>\n",
       "    </tr>\n",
       "    <tr>\n",
       "      <th>2</th>\n",
       "      <td>19.75</td>\n",
       "      <td>6</td>\n",
       "    </tr>\n",
       "    <tr>\n",
       "      <th>3</th>\n",
       "      <td>24.00</td>\n",
       "      <td>9</td>\n",
       "    </tr>\n",
       "    <tr>\n",
       "      <th>4</th>\n",
       "      <td>29.00</td>\n",
       "      <td>10</td>\n",
       "    </tr>\n",
       "  </tbody>\n",
       "</table>\n",
       "</div>"
      ],
      "text/plain": [
       "       Y   X\n",
       "0  21.00  10\n",
       "1  13.50   4\n",
       "2  19.75   6\n",
       "3  24.00   9\n",
       "4  29.00  10"
      ]
     },
     "execution_count": 5,
     "metadata": {},
     "output_type": "execute_result"
    }
   ],
   "source": [
    "data.head()"
   ]
  },
  {
   "cell_type": "code",
   "execution_count": 6,
   "id": "e138bf7e",
   "metadata": {},
   "outputs": [
    {
     "data": {
      "text/html": [
       "<div>\n",
       "<style scoped>\n",
       "    .dataframe tbody tr th:only-of-type {\n",
       "        vertical-align: middle;\n",
       "    }\n",
       "\n",
       "    .dataframe tbody tr th {\n",
       "        vertical-align: top;\n",
       "    }\n",
       "\n",
       "    .dataframe thead th {\n",
       "        text-align: right;\n",
       "    }\n",
       "</style>\n",
       "<table border=\"1\" class=\"dataframe\">\n",
       "  <thead>\n",
       "    <tr style=\"text-align: right;\">\n",
       "      <th></th>\n",
       "      <th>Y</th>\n",
       "      <th>X</th>\n",
       "    </tr>\n",
       "  </thead>\n",
       "  <tbody>\n",
       "    <tr>\n",
       "      <th>Y</th>\n",
       "      <td>1.000000</td>\n",
       "      <td>0.825997</td>\n",
       "    </tr>\n",
       "    <tr>\n",
       "      <th>X</th>\n",
       "      <td>0.825997</td>\n",
       "      <td>1.000000</td>\n",
       "    </tr>\n",
       "  </tbody>\n",
       "</table>\n",
       "</div>"
      ],
      "text/plain": [
       "          Y         X\n",
       "Y  1.000000  0.825997\n",
       "X  0.825997  1.000000"
      ]
     },
     "execution_count": 6,
     "metadata": {},
     "output_type": "execute_result"
    }
   ],
   "source": [
    "data.corr()"
   ]
  },
  {
   "cell_type": "code",
   "execution_count": 7,
   "id": "794e9223",
   "metadata": {},
   "outputs": [
    {
     "name": "stderr",
     "output_type": "stream",
     "text": [
      "C:\\Users\\91931\\AppData\\Local\\Temp\\ipykernel_1068\\3638293720.py:2: UserWarning: \n",
      "\n",
      "`distplot` is a deprecated function and will be removed in seaborn v0.14.0.\n",
      "\n",
      "Please adapt your code to use either `displot` (a figure-level function with\n",
      "similar flexibility) or `histplot` (an axes-level function for histograms).\n",
      "\n",
      "For a guide to updating your code to use the new functions, please see\n",
      "https://gist.github.com/mwaskom/de44147ed2974457ad6372750bbe5751\n",
      "\n",
      "  sns.distplot(data['X'])\n"
     ]
    },
    {
     "data": {
      "text/plain": [
       "<Axes: xlabel='X', ylabel='Density'>"
      ]
     },
     "execution_count": 7,
     "metadata": {},
     "output_type": "execute_result"
    },
    {
     "data": {
      "image/png": "[encoded data removed]",
      "text/plain": [
       "<Figure size 640x480 with 1 Axes>"
      ]
     },
     "metadata": {},
     "output_type": "display_data"
    }
   ],
   "source": [
    "import seaborn as sns\n",
    "sns.distplot(data['X'])"
   ]
  },
  {
   "cell_type": "code",
   "execution_count": 8,
   "id": "8af41d79",
   "metadata": {},
   "outputs": [
    {
     "name": "stderr",
     "output_type": "stream",
     "text": [
      "C:\\Users\\91931\\AppData\\Local\\Temp\\ipykernel_1068\\2740884709.py:1: UserWarning: \n",
      "\n",
      "`distplot` is a deprecated function and will be removed in seaborn v0.14.0.\n",
      "\n",
      "Please adapt your code to use either `displot` (a figure-level function with\n",
      "similar flexibility) or `histplot` (an axes-level function for histograms).\n",
      "\n",
      "For a guide to updating your code to use the new functions, please see\n",
      "https://gist.github.com/mwaskom/de44147ed2974457ad6372750bbe5751\n",
      "\n",
      "  sns.distplot(data['Y'])\n"
     ]
    },
    {
     "data": {
      "text/plain": [
       "<Axes: xlabel='Y', ylabel='Density'>"
      ]
     },
     "execution_count": 8,
     "metadata": {},
     "output_type": "execute_result"
    },
    {
     "data": {
      "image/png": "[encoded data removed]",
      "text/plain": [
       "<Figure size 640x480 with 1 Axes>"
      ]
     },
     "metadata": {},
     "output_type": "display_data"
    }
   ],
   "source": [
    "sns.distplot(data['Y'])"
   ]
  },
  {
   "cell_type": "markdown",
   "id": "c9f91f31",
   "metadata": {},
   "source": [
    "# regression model"
   ]
  },
  {
   "cell_type": "code",
   "execution_count": 11,
   "id": "632f9789",
   "metadata": {},
   "outputs": [],
   "source": [
    "import statsmodels.formula.api as smf\n",
    "model = smf.ols(\"Y ~ X\", data=data).fit()"
   ]
  },
  {
   "cell_type": "code",
   "execution_count": 12,
   "id": "b525a352",
   "metadata": {},
   "outputs": [
    {
     "data": {
      "image/png": "[encoded data removed]",
      "text/plain": [
       "<Figure size 640x480 with 1 Axes>"
      ]
     },
     "metadata": {},
     "output_type": "display_data"
    }
   ],
   "source": [
    "sns.regplot(x=\"X\", y=\"Y\", data=data);"
   ]
  },
  {
   "cell_type": "code",
   "execution_count": 13,
   "id": "757316ca",
   "metadata": {},
   "outputs": [
    {
     "data": {
      "text/plain": [
       "Intercept    6.582734\n",
       "X            1.649020\n",
       "dtype: float64"
      ]
     },
     "execution_count": 13,
     "metadata": {},
     "output_type": "execute_result"
    }
   ],
   "source": [
    "#coefficients\n",
    "model.params"
   ]
  },
  {
   "cell_type": "code",
   "execution_count": 14,
   "id": "ee98bd06",
   "metadata": {},
   "outputs": [
    {
     "name": "stdout",
     "output_type": "stream",
     "text": [
      "Intercept    3.823349\n",
      "X            6.387447\n",
      "dtype: float64 \n",
      " Intercept    0.001147\n",
      "X            0.000004\n",
      "dtype: float64\n"
     ]
    }
   ],
   "source": [
    "#t and p values\n",
    "print(model.tvalues, '\\n', model.pvalues)"
   ]
  },
  {
   "cell_type": "code",
   "execution_count": 15,
   "id": "526ee30f",
   "metadata": {},
   "outputs": [
    {
     "data": {
      "text/plain": [
       "(0.6822714748417231, 0.6655489208860244)"
      ]
     },
     "execution_count": 15,
     "metadata": {},
     "output_type": "execute_result"
    }
   ],
   "source": [
    "# R squared values \n",
    "(model.rsquared, model.rsquared_adj)"
   ]
  },
  {
   "cell_type": "markdown",
   "id": "b123e4c9",
   "metadata": {},
   "source": [
    "# Let's try other transformations to check for better fitting model"
   ]
  },
  {
   "cell_type": "code",
   "execution_count": 17,
   "id": "177fd2b2",
   "metadata": {},
   "outputs": [],
   "source": [
    "#log transformation\n",
    "import numpy as np\n",
    "data['log_X'] = np.log(data['X'])\n",
    "import numpy as np\n",
    "data['log_Y'] = np.log(data['Y'])"
   ]
  },
  {
   "cell_type": "code",
   "execution_count": 18,
   "id": "43a97a51",
   "metadata": {},
   "outputs": [
    {
     "data": {
      "text/html": [
       "<div>\n",
       "<style scoped>\n",
       "    .dataframe tbody tr th:only-of-type {\n",
       "        vertical-align: middle;\n",
       "    }\n",
       "\n",
       "    .dataframe tbody tr th {\n",
       "        vertical-align: top;\n",
       "    }\n",
       "\n",
       "    .dataframe thead th {\n",
       "        text-align: right;\n",
       "    }\n",
       "</style>\n",
       "<table border=\"1\" class=\"dataframe\">\n",
       "  <thead>\n",
       "    <tr style=\"text-align: right;\">\n",
       "      <th></th>\n",
       "      <th>Y</th>\n",
       "      <th>X</th>\n",
       "      <th>log_X</th>\n",
       "      <th>log_Y</th>\n",
       "    </tr>\n",
       "  </thead>\n",
       "  <tbody>\n",
       "    <tr>\n",
       "      <th>0</th>\n",
       "      <td>21.00</td>\n",
       "      <td>10</td>\n",
       "      <td>2.302585</td>\n",
       "      <td>3.044522</td>\n",
       "    </tr>\n",
       "    <tr>\n",
       "      <th>1</th>\n",
       "      <td>13.50</td>\n",
       "      <td>4</td>\n",
       "      <td>1.386294</td>\n",
       "      <td>2.602690</td>\n",
       "    </tr>\n",
       "    <tr>\n",
       "      <th>2</th>\n",
       "      <td>19.75</td>\n",
       "      <td>6</td>\n",
       "      <td>1.791759</td>\n",
       "      <td>2.983153</td>\n",
       "    </tr>\n",
       "    <tr>\n",
       "      <th>3</th>\n",
       "      <td>24.00</td>\n",
       "      <td>9</td>\n",
       "      <td>2.197225</td>\n",
       "      <td>3.178054</td>\n",
       "    </tr>\n",
       "    <tr>\n",
       "      <th>4</th>\n",
       "      <td>29.00</td>\n",
       "      <td>10</td>\n",
       "      <td>2.302585</td>\n",
       "      <td>3.367296</td>\n",
       "    </tr>\n",
       "  </tbody>\n",
       "</table>\n",
       "</div>"
      ],
      "text/plain": [
       "       Y   X     log_X     log_Y\n",
       "0  21.00  10  2.302585  3.044522\n",
       "1  13.50   4  1.386294  2.602690\n",
       "2  19.75   6  1.791759  2.983153\n",
       "3  24.00   9  2.197225  3.178054\n",
       "4  29.00  10  2.302585  3.367296"
      ]
     },
     "execution_count": 18,
     "metadata": {},
     "output_type": "execute_result"
    }
   ],
   "source": [
    "data.head()"
   ]
  },
  {
   "cell_type": "code",
   "execution_count": 19,
   "id": "b1944c70",
   "metadata": {},
   "outputs": [
    {
     "name": "stderr",
     "output_type": "stream",
     "text": [
      "C:\\Users\\91931\\AppData\\Local\\Temp\\ipykernel_1068\\1767558509.py:1: UserWarning: \n",
      "\n",
      "`distplot` is a deprecated function and will be removed in seaborn v0.14.0.\n",
      "\n",
      "Please adapt your code to use either `displot` (a figure-level function with\n",
      "similar flexibility) or `histplot` (an axes-level function for histograms).\n",
      "\n",
      "For a guide to updating your code to use the new functions, please see\n",
      "https://gist.github.com/mwaskom/de44147ed2974457ad6372750bbe5751\n",
      "\n",
      "  sns.distplot(data['log_X'])\n"
     ]
    },
    {
     "data": {
      "text/plain": [
       "<Axes: xlabel='log_X', ylabel='Density'>"
      ]
     },
     "execution_count": 19,
     "metadata": {},
     "output_type": "execute_result"
    },
    {
     "data": {
      "image/png": "[encoded data removed]",
      "text/plain": [
       "<Figure size 640x480 with 1 Axes>"
      ]
     },
     "metadata": {},
     "output_type": "display_data"
    }
   ],
   "source": [
    "sns.distplot(data['log_X'])"
   ]
  },
  {
   "cell_type": "code",
   "execution_count": 20,
   "id": "b03f15d8",
   "metadata": {},
   "outputs": [
    {
     "name": "stderr",
     "output_type": "stream",
     "text": [
      "C:\\Users\\91931\\AppData\\Local\\Temp\\ipykernel_1068\\2594288202.py:1: UserWarning: \n",
      "\n",
      "`distplot` is a deprecated function and will be removed in seaborn v0.14.0.\n",
      "\n",
      "Please adapt your code to use either `displot` (a figure-level function with\n",
      "similar flexibility) or `histplot` (an axes-level function for histograms).\n",
      "\n",
      "For a guide to updating your code to use the new functions, please see\n",
      "https://gist.github.com/mwaskom/de44147ed2974457ad6372750bbe5751\n",
      "\n",
      "  sns.distplot(data['log_Y'])\n"
     ]
    },
    {
     "data": {
      "text/plain": [
       "<Axes: xlabel='log_Y', ylabel='Density'>"
      ]
     },
     "execution_count": 20,
     "metadata": {},
     "output_type": "execute_result"
    },
    {
     "data": {
      "image/png": "[encoded data removed]",
      "text/plain": [
       "<Figure size 640x480 with 1 Axes>"
      ]
     },
     "metadata": {},
     "output_type": "display_data"
    }
   ],
   "source": [
    "sns.distplot(data['log_Y'])"
   ]
  },
  {
   "cell_type": "code",
   "execution_count": 21,
   "id": "eba44571",
   "metadata": {},
   "outputs": [],
   "source": [
    "#square root transformation\n",
    "data['sqrt_X'] = np.sqrt(data['X'])\n",
    "data['sqrt_Y'] = np.sqrt(data['Y'])\n"
   ]
  },
  {
   "cell_type": "code",
   "execution_count": 22,
   "id": "7287c30f",
   "metadata": {},
   "outputs": [
    {
     "data": {
      "text/html": [
       "<div>\n",
       "<style scoped>\n",
       "    .dataframe tbody tr th:only-of-type {\n",
       "        vertical-align: middle;\n",
       "    }\n",
       "\n",
       "    .dataframe tbody tr th {\n",
       "        vertical-align: top;\n",
       "    }\n",
       "\n",
       "    .dataframe thead th {\n",
       "        text-align: right;\n",
       "    }\n",
       "</style>\n",
       "<table border=\"1\" class=\"dataframe\">\n",
       "  <thead>\n",
       "    <tr style=\"text-align: right;\">\n",
       "      <th></th>\n",
       "      <th>Y</th>\n",
       "      <th>X</th>\n",
       "      <th>log_X</th>\n",
       "      <th>log_Y</th>\n",
       "      <th>sqrt_X</th>\n",
       "      <th>sqrt_Y</th>\n",
       "    </tr>\n",
       "  </thead>\n",
       "  <tbody>\n",
       "    <tr>\n",
       "      <th>0</th>\n",
       "      <td>21.00</td>\n",
       "      <td>10</td>\n",
       "      <td>2.302585</td>\n",
       "      <td>3.044522</td>\n",
       "      <td>3.162278</td>\n",
       "      <td>4.582576</td>\n",
       "    </tr>\n",
       "    <tr>\n",
       "      <th>1</th>\n",
       "      <td>13.50</td>\n",
       "      <td>4</td>\n",
       "      <td>1.386294</td>\n",
       "      <td>2.602690</td>\n",
       "      <td>2.000000</td>\n",
       "      <td>3.674235</td>\n",
       "    </tr>\n",
       "    <tr>\n",
       "      <th>2</th>\n",
       "      <td>19.75</td>\n",
       "      <td>6</td>\n",
       "      <td>1.791759</td>\n",
       "      <td>2.983153</td>\n",
       "      <td>2.449490</td>\n",
       "      <td>4.444097</td>\n",
       "    </tr>\n",
       "    <tr>\n",
       "      <th>3</th>\n",
       "      <td>24.00</td>\n",
       "      <td>9</td>\n",
       "      <td>2.197225</td>\n",
       "      <td>3.178054</td>\n",
       "      <td>3.000000</td>\n",
       "      <td>4.898979</td>\n",
       "    </tr>\n",
       "    <tr>\n",
       "      <th>4</th>\n",
       "      <td>29.00</td>\n",
       "      <td>10</td>\n",
       "      <td>2.302585</td>\n",
       "      <td>3.367296</td>\n",
       "      <td>3.162278</td>\n",
       "      <td>5.385165</td>\n",
       "    </tr>\n",
       "  </tbody>\n",
       "</table>\n",
       "</div>"
      ],
      "text/plain": [
       "       Y   X     log_X     log_Y    sqrt_X    sqrt_Y\n",
       "0  21.00  10  2.302585  3.044522  3.162278  4.582576\n",
       "1  13.50   4  1.386294  2.602690  2.000000  3.674235\n",
       "2  19.75   6  1.791759  2.983153  2.449490  4.444097\n",
       "3  24.00   9  2.197225  3.178054  3.000000  4.898979\n",
       "4  29.00  10  2.302585  3.367296  3.162278  5.385165"
      ]
     },
     "execution_count": 22,
     "metadata": {},
     "output_type": "execute_result"
    }
   ],
   "source": [
    "data.head()"
   ]
  },
  {
   "cell_type": "code",
   "execution_count": 24,
   "id": "bd36fb0a",
   "metadata": {},
   "outputs": [],
   "source": [
    "#cube root transformation\n",
    "data['cbrt_X'] = np.cbrt(data['X'])\n",
    "data['cbrt_Y'] = np.cbrt(data['Y'])"
   ]
  },
  {
   "cell_type": "code",
   "execution_count": 25,
   "id": "aaa3f2c2",
   "metadata": {},
   "outputs": [
    {
     "data": {
      "text/html": [
       "<div>\n",
       "<style scoped>\n",
       "    .dataframe tbody tr th:only-of-type {\n",
       "        vertical-align: middle;\n",
       "    }\n",
       "\n",
       "    .dataframe tbody tr th {\n",
       "        vertical-align: top;\n",
       "    }\n",
       "\n",
       "    .dataframe thead th {\n",
       "        text-align: right;\n",
       "    }\n",
       "</style>\n",
       "<table border=\"1\" class=\"dataframe\">\n",
       "  <thead>\n",
       "    <tr style=\"text-align: right;\">\n",
       "      <th></th>\n",
       "      <th>Y</th>\n",
       "      <th>X</th>\n",
       "      <th>log_X</th>\n",
       "      <th>log_Y</th>\n",
       "      <th>sqrt_X</th>\n",
       "      <th>sqrt_Y</th>\n",
       "      <th>cbrt_X</th>\n",
       "      <th>cbrt_Y</th>\n",
       "    </tr>\n",
       "  </thead>\n",
       "  <tbody>\n",
       "    <tr>\n",
       "      <th>0</th>\n",
       "      <td>21.00</td>\n",
       "      <td>10</td>\n",
       "      <td>2.302585</td>\n",
       "      <td>3.044522</td>\n",
       "      <td>3.162278</td>\n",
       "      <td>4.582576</td>\n",
       "      <td>2.154435</td>\n",
       "      <td>2.758924</td>\n",
       "    </tr>\n",
       "    <tr>\n",
       "      <th>1</th>\n",
       "      <td>13.50</td>\n",
       "      <td>4</td>\n",
       "      <td>1.386294</td>\n",
       "      <td>2.602690</td>\n",
       "      <td>2.000000</td>\n",
       "      <td>3.674235</td>\n",
       "      <td>1.587401</td>\n",
       "      <td>2.381102</td>\n",
       "    </tr>\n",
       "    <tr>\n",
       "      <th>2</th>\n",
       "      <td>19.75</td>\n",
       "      <td>6</td>\n",
       "      <td>1.791759</td>\n",
       "      <td>2.983153</td>\n",
       "      <td>2.449490</td>\n",
       "      <td>4.444097</td>\n",
       "      <td>1.817121</td>\n",
       "      <td>2.703060</td>\n",
       "    </tr>\n",
       "    <tr>\n",
       "      <th>3</th>\n",
       "      <td>24.00</td>\n",
       "      <td>9</td>\n",
       "      <td>2.197225</td>\n",
       "      <td>3.178054</td>\n",
       "      <td>3.000000</td>\n",
       "      <td>4.898979</td>\n",
       "      <td>2.080084</td>\n",
       "      <td>2.884499</td>\n",
       "    </tr>\n",
       "    <tr>\n",
       "      <th>4</th>\n",
       "      <td>29.00</td>\n",
       "      <td>10</td>\n",
       "      <td>2.302585</td>\n",
       "      <td>3.367296</td>\n",
       "      <td>3.162278</td>\n",
       "      <td>5.385165</td>\n",
       "      <td>2.154435</td>\n",
       "      <td>3.072317</td>\n",
       "    </tr>\n",
       "  </tbody>\n",
       "</table>\n",
       "</div>"
      ],
      "text/plain": [
       "       Y   X     log_X     log_Y    sqrt_X    sqrt_Y    cbrt_X    cbrt_Y\n",
       "0  21.00  10  2.302585  3.044522  3.162278  4.582576  2.154435  2.758924\n",
       "1  13.50   4  1.386294  2.602690  2.000000  3.674235  1.587401  2.381102\n",
       "2  19.75   6  1.791759  2.983153  2.449490  4.444097  1.817121  2.703060\n",
       "3  24.00   9  2.197225  3.178054  3.000000  4.898979  2.080084  2.884499\n",
       "4  29.00  10  2.302585  3.367296  3.162278  5.385165  2.154435  3.072317"
      ]
     },
     "execution_count": 25,
     "metadata": {},
     "output_type": "execute_result"
    }
   ],
   "source": [
    "data.head()"
   ]
  },
  {
   "cell_type": "code",
   "execution_count": 26,
   "id": "1543ea25",
   "metadata": {},
   "outputs": [],
   "source": [
    "model_log = smf.ols(\"log_Y ~ log_X\", data=data).fit()"
   ]
  },
  {
   "cell_type": "code",
   "execution_count": 27,
   "id": "f92a8845",
   "metadata": {},
   "outputs": [
    {
     "data": {
      "text/plain": [
       "(0.77216134926874, 0.7601698413355158)"
      ]
     },
     "execution_count": 27,
     "metadata": {},
     "output_type": "execute_result"
    }
   ],
   "source": [
    "# R squared values \n",
    "(model_log.rsquared, model_log.rsquared_adj)"
   ]
  },
  {
   "cell_type": "code",
   "execution_count": 30,
   "id": "8012d8f2",
   "metadata": {},
   "outputs": [],
   "source": [
    "model_sqrt = smf.ols(\"sqrt_Y ~ sqrt_X\", data=data).fit()"
   ]
  },
  {
   "cell_type": "code",
   "execution_count": 31,
   "id": "ff1415fc",
   "metadata": {},
   "outputs": [
    {
     "data": {
      "text/plain": [
       "(0.7292011987544664, 0.7149486302678594)"
      ]
     },
     "execution_count": 31,
     "metadata": {},
     "output_type": "execute_result"
    }
   ],
   "source": [
    "(model_sqrt.rsquared, model_sqrt.rsquared_adj)"
   ]
  },
  {
   "cell_type": "code",
   "execution_count": 32,
   "id": "8310f9a2",
   "metadata": {},
   "outputs": [],
   "source": [
    "model_cbrt = smf.ols(\"cbrt_Y ~ cbrt_X\", data=data).fit()"
   ]
  },
  {
   "cell_type": "code",
   "execution_count": 33,
   "id": "11b37c08",
   "metadata": {},
   "outputs": [
    {
     "data": {
      "text/plain": [
       "(0.744116757756627, 0.7306492186911864)"
      ]
     },
     "execution_count": 33,
     "metadata": {},
     "output_type": "execute_result"
    }
   ],
   "source": [
    "(model_cbrt.rsquared, model_cbrt.rsquared_adj)"
   ]
  },
  {
   "cell_type": "markdown",
   "id": "638d1bed",
   "metadata": {},
   "source": [
    "# MinMaxScalar and StandardScaler"
   ]
  },
  {
   "cell_type": "code",
   "execution_count": 39,
   "id": "21d6f43e",
   "metadata": {},
   "outputs": [],
   "source": [
    "from sklearn.preprocessing import MinMaxScaler\n",
    "from sklearn.preprocessing import StandardScaler"
   ]
  },
  {
   "cell_type": "code",
   "execution_count": 36,
   "id": "2b2b9e8b",
   "metadata": {},
   "outputs": [],
   "source": [
    "cols_to_normalize = ['X', 'Y']\n",
    "\n",
    "# Create a MinMaxScaler object\n",
    "scaler = MinMaxScaler()\n",
    "\n",
    "# transform the data\n",
    "data[['X_norm', 'Y_norm']] = scaler.fit_transform(data[cols_to_normalize])"
   ]
  },
  {
   "cell_type": "code",
   "execution_count": 37,
   "id": "ee965c92",
   "metadata": {},
   "outputs": [
    {
     "data": {
      "text/html": [
       "<div>\n",
       "<style scoped>\n",
       "    .dataframe tbody tr th:only-of-type {\n",
       "        vertical-align: middle;\n",
       "    }\n",
       "\n",
       "    .dataframe tbody tr th {\n",
       "        vertical-align: top;\n",
       "    }\n",
       "\n",
       "    .dataframe thead th {\n",
       "        text-align: right;\n",
       "    }\n",
       "</style>\n",
       "<table border=\"1\" class=\"dataframe\">\n",
       "  <thead>\n",
       "    <tr style=\"text-align: right;\">\n",
       "      <th></th>\n",
       "      <th>Y</th>\n",
       "      <th>X</th>\n",
       "      <th>log_X</th>\n",
       "      <th>log_Y</th>\n",
       "      <th>sqrt_X</th>\n",
       "      <th>sqrt_Y</th>\n",
       "      <th>cbrt_X</th>\n",
       "      <th>cbrt_Y</th>\n",
       "      <th>X_norm</th>\n",
       "      <th>Y_norm</th>\n",
       "    </tr>\n",
       "  </thead>\n",
       "  <tbody>\n",
       "    <tr>\n",
       "      <th>0</th>\n",
       "      <td>21.00</td>\n",
       "      <td>10</td>\n",
       "      <td>2.302585</td>\n",
       "      <td>3.044522</td>\n",
       "      <td>3.162278</td>\n",
       "      <td>4.582576</td>\n",
       "      <td>2.154435</td>\n",
       "      <td>2.758924</td>\n",
       "      <td>1.000</td>\n",
       "      <td>0.619048</td>\n",
       "    </tr>\n",
       "    <tr>\n",
       "      <th>1</th>\n",
       "      <td>13.50</td>\n",
       "      <td>4</td>\n",
       "      <td>1.386294</td>\n",
       "      <td>2.602690</td>\n",
       "      <td>2.000000</td>\n",
       "      <td>3.674235</td>\n",
       "      <td>1.587401</td>\n",
       "      <td>2.381102</td>\n",
       "      <td>0.250</td>\n",
       "      <td>0.261905</td>\n",
       "    </tr>\n",
       "    <tr>\n",
       "      <th>2</th>\n",
       "      <td>19.75</td>\n",
       "      <td>6</td>\n",
       "      <td>1.791759</td>\n",
       "      <td>2.983153</td>\n",
       "      <td>2.449490</td>\n",
       "      <td>4.444097</td>\n",
       "      <td>1.817121</td>\n",
       "      <td>2.703060</td>\n",
       "      <td>0.500</td>\n",
       "      <td>0.559524</td>\n",
       "    </tr>\n",
       "    <tr>\n",
       "      <th>3</th>\n",
       "      <td>24.00</td>\n",
       "      <td>9</td>\n",
       "      <td>2.197225</td>\n",
       "      <td>3.178054</td>\n",
       "      <td>3.000000</td>\n",
       "      <td>4.898979</td>\n",
       "      <td>2.080084</td>\n",
       "      <td>2.884499</td>\n",
       "      <td>0.875</td>\n",
       "      <td>0.761905</td>\n",
       "    </tr>\n",
       "    <tr>\n",
       "      <th>4</th>\n",
       "      <td>29.00</td>\n",
       "      <td>10</td>\n",
       "      <td>2.302585</td>\n",
       "      <td>3.367296</td>\n",
       "      <td>3.162278</td>\n",
       "      <td>5.385165</td>\n",
       "      <td>2.154435</td>\n",
       "      <td>3.072317</td>\n",
       "      <td>1.000</td>\n",
       "      <td>1.000000</td>\n",
       "    </tr>\n",
       "  </tbody>\n",
       "</table>\n",
       "</div>"
      ],
      "text/plain": [
       "       Y   X     log_X     log_Y    sqrt_X    sqrt_Y    cbrt_X    cbrt_Y  \\\n",
       "0  21.00  10  2.302585  3.044522  3.162278  4.582576  2.154435  2.758924   \n",
       "1  13.50   4  1.386294  2.602690  2.000000  3.674235  1.587401  2.381102   \n",
       "2  19.75   6  1.791759  2.983153  2.449490  4.444097  1.817121  2.703060   \n",
       "3  24.00   9  2.197225  3.178054  3.000000  4.898979  2.080084  2.884499   \n",
       "4  29.00  10  2.302585  3.367296  3.162278  5.385165  2.154435  3.072317   \n",
       "\n",
       "   X_norm    Y_norm  \n",
       "0   1.000  0.619048  \n",
       "1   0.250  0.261905  \n",
       "2   0.500  0.559524  \n",
       "3   0.875  0.761905  \n",
       "4   1.000  1.000000  "
      ]
     },
     "execution_count": 37,
     "metadata": {},
     "output_type": "execute_result"
    }
   ],
   "source": [
    "data.head()"
   ]
  },
  {
   "cell_type": "code",
   "execution_count": 40,
   "id": "e9cd858a",
   "metadata": {},
   "outputs": [],
   "source": [
    "# Create a MinMaxScaler object\n",
    "scaler = StandardScaler()\n",
    "\n",
    "# transform the data\n",
    "data[['X_standardized', 'Y_standardized']] = scaler.fit_transform(data[cols_to_normalize])"
   ]
  },
  {
   "cell_type": "code",
   "execution_count": 41,
   "id": "461c7bee",
   "metadata": {},
   "outputs": [
    {
     "data": {
      "text/html": [
       "<div>\n",
       "<style scoped>\n",
       "    .dataframe tbody tr th:only-of-type {\n",
       "        vertical-align: middle;\n",
       "    }\n",
       "\n",
       "    .dataframe tbody tr th {\n",
       "        vertical-align: top;\n",
       "    }\n",
       "\n",
       "    .dataframe thead th {\n",
       "        text-align: right;\n",
       "    }\n",
       "</style>\n",
       "<table border=\"1\" class=\"dataframe\">\n",
       "  <thead>\n",
       "    <tr style=\"text-align: right;\">\n",
       "      <th></th>\n",
       "      <th>Y</th>\n",
       "      <th>X</th>\n",
       "      <th>log_X</th>\n",
       "      <th>log_Y</th>\n",
       "      <th>sqrt_X</th>\n",
       "      <th>sqrt_Y</th>\n",
       "      <th>cbrt_X</th>\n",
       "      <th>cbrt_Y</th>\n",
       "      <th>X_norm</th>\n",
       "      <th>Y_norm</th>\n",
       "      <th>X_standardized</th>\n",
       "      <th>Y_standardized</th>\n",
       "    </tr>\n",
       "  </thead>\n",
       "  <tbody>\n",
       "    <tr>\n",
       "      <th>0</th>\n",
       "      <td>21.00</td>\n",
       "      <td>10</td>\n",
       "      <td>2.302585</td>\n",
       "      <td>3.044522</td>\n",
       "      <td>3.162278</td>\n",
       "      <td>4.582576</td>\n",
       "      <td>2.154435</td>\n",
       "      <td>2.758924</td>\n",
       "      <td>1.000</td>\n",
       "      <td>0.619048</td>\n",
       "      <td>1.535625</td>\n",
       "      <td>0.849867</td>\n",
       "    </tr>\n",
       "    <tr>\n",
       "      <th>1</th>\n",
       "      <td>13.50</td>\n",
       "      <td>4</td>\n",
       "      <td>1.386294</td>\n",
       "      <td>2.602690</td>\n",
       "      <td>2.000000</td>\n",
       "      <td>3.674235</td>\n",
       "      <td>1.587401</td>\n",
       "      <td>2.381102</td>\n",
       "      <td>0.250</td>\n",
       "      <td>0.261905</td>\n",
       "      <td>-0.882984</td>\n",
       "      <td>-0.664490</td>\n",
       "    </tr>\n",
       "    <tr>\n",
       "      <th>2</th>\n",
       "      <td>19.75</td>\n",
       "      <td>6</td>\n",
       "      <td>1.791759</td>\n",
       "      <td>2.983153</td>\n",
       "      <td>2.449490</td>\n",
       "      <td>4.444097</td>\n",
       "      <td>1.817121</td>\n",
       "      <td>2.703060</td>\n",
       "      <td>0.500</td>\n",
       "      <td>0.559524</td>\n",
       "      <td>-0.076781</td>\n",
       "      <td>0.597474</td>\n",
       "    </tr>\n",
       "    <tr>\n",
       "      <th>3</th>\n",
       "      <td>24.00</td>\n",
       "      <td>9</td>\n",
       "      <td>2.197225</td>\n",
       "      <td>3.178054</td>\n",
       "      <td>3.000000</td>\n",
       "      <td>4.898979</td>\n",
       "      <td>2.080084</td>\n",
       "      <td>2.884499</td>\n",
       "      <td>0.875</td>\n",
       "      <td>0.761905</td>\n",
       "      <td>1.132523</td>\n",
       "      <td>1.455610</td>\n",
       "    </tr>\n",
       "    <tr>\n",
       "      <th>4</th>\n",
       "      <td>29.00</td>\n",
       "      <td>10</td>\n",
       "      <td>2.302585</td>\n",
       "      <td>3.367296</td>\n",
       "      <td>3.162278</td>\n",
       "      <td>5.385165</td>\n",
       "      <td>2.154435</td>\n",
       "      <td>3.072317</td>\n",
       "      <td>1.000</td>\n",
       "      <td>1.000000</td>\n",
       "      <td>1.535625</td>\n",
       "      <td>2.465181</td>\n",
       "    </tr>\n",
       "  </tbody>\n",
       "</table>\n",
       "</div>"
      ],
      "text/plain": [
       "       Y   X     log_X     log_Y    sqrt_X    sqrt_Y    cbrt_X    cbrt_Y  \\\n",
       "0  21.00  10  2.302585  3.044522  3.162278  4.582576  2.154435  2.758924   \n",
       "1  13.50   4  1.386294  2.602690  2.000000  3.674235  1.587401  2.381102   \n",
       "2  19.75   6  1.791759  2.983153  2.449490  4.444097  1.817121  2.703060   \n",
       "3  24.00   9  2.197225  3.178054  3.000000  4.898979  2.080084  2.884499   \n",
       "4  29.00  10  2.302585  3.367296  3.162278  5.385165  2.154435  3.072317   \n",
       "\n",
       "   X_norm    Y_norm  X_standardized  Y_standardized  \n",
       "0   1.000  0.619048        1.535625        0.849867  \n",
       "1   0.250  0.261905       -0.882984       -0.664490  \n",
       "2   0.500  0.559524       -0.076781        0.597474  \n",
       "3   0.875  0.761905        1.132523        1.455610  \n",
       "4   1.000  1.000000        1.535625        2.465181  "
      ]
     },
     "execution_count": 41,
     "metadata": {},
     "output_type": "execute_result"
    }
   ],
   "source": [
    "data.head()"
   ]
  },
  {
   "cell_type": "code",
   "execution_count": 42,
   "id": "29d90691",
   "metadata": {},
   "outputs": [],
   "source": [
    "model_norm = smf.ols(\"Y_norm ~ X_norm\", data=data).fit()"
   ]
  },
  {
   "cell_type": "code",
   "execution_count": 43,
   "id": "43ae11e6",
   "metadata": {},
   "outputs": [
    {
     "data": {
      "text/plain": [
       "(0.6822714748417231, 0.6655489208860244)"
      ]
     },
     "execution_count": 43,
     "metadata": {},
     "output_type": "execute_result"
    }
   ],
   "source": [
    "(model_norm.rsquared, model_norm.rsquared_adj)"
   ]
  },
  {
   "cell_type": "code",
   "execution_count": 44,
   "id": "23a4f98b",
   "metadata": {},
   "outputs": [],
   "source": [
    "model_standardized = smf.ols(\"Y_standardized ~ X_standardized\", data=data).fit()"
   ]
  },
  {
   "cell_type": "code",
   "execution_count": 45,
   "id": "8b3dc2a2",
   "metadata": {},
   "outputs": [
    {
     "data": {
      "text/plain": [
       "(0.6822714748417231, 0.6655489208860244)"
      ]
     },
     "execution_count": 45,
     "metadata": {},
     "output_type": "execute_result"
    }
   ],
   "source": [
    "(model_standardized.rsquared, model_standardized.rsquared_adj)"
   ]
  },
  {
   "cell_type": "code",
   "execution_count": 46,
   "id": "66a576ab",
   "metadata": {},
   "outputs": [],
   "source": [
    "r_squared = [model.rsquared, model_log.rsquared, model_sqrt.rsquared, model_cbrt.rsquared, model_norm.rsquared, model_standardized.rsquared]\n",
    "r_squared_adj = [model.rsquared_adj, model_log.rsquared_adj, model_sqrt.rsquared_adj, model_cbrt.rsquared_adj, model_norm.rsquared_adj, model_standardized.rsquared_adj]"
   ]
  },
  {
   "cell_type": "code",
   "execution_count": 47,
   "id": "f1e8c784",
   "metadata": {},
   "outputs": [],
   "source": [
    "df={'Model': ['Model', 'model_log', 'model_sqrt', 'model_cbrt', 'model_norm', 'model_standardized'], 'R-squared': r_squared, 'Adj. R-squared': r_squared_adj}"
   ]
  },
  {
   "cell_type": "code",
   "execution_count": 48,
   "id": "78b2f642",
   "metadata": {},
   "outputs": [],
   "source": [
    "table = pd.DataFrame(df)"
   ]
  },
  {
   "cell_type": "code",
   "execution_count": 49,
   "id": "158fb328",
   "metadata": {},
   "outputs": [
    {
     "data": {
      "text/html": [
       "<div>\n",
       "<style scoped>\n",
       "    .dataframe tbody tr th:only-of-type {\n",
       "        vertical-align: middle;\n",
       "    }\n",
       "\n",
       "    .dataframe tbody tr th {\n",
       "        vertical-align: top;\n",
       "    }\n",
       "\n",
       "    .dataframe thead th {\n",
       "        text-align: right;\n",
       "    }\n",
       "</style>\n",
       "<table border=\"1\" class=\"dataframe\">\n",
       "  <thead>\n",
       "    <tr style=\"text-align: right;\">\n",
       "      <th></th>\n",
       "      <th>Model</th>\n",
       "      <th>R-squared</th>\n",
       "      <th>Adj. R-squared</th>\n",
       "    </tr>\n",
       "  </thead>\n",
       "  <tbody>\n",
       "    <tr>\n",
       "      <th>0</th>\n",
       "      <td>Model</td>\n",
       "      <td>0.682271</td>\n",
       "      <td>0.665549</td>\n",
       "    </tr>\n",
       "    <tr>\n",
       "      <th>1</th>\n",
       "      <td>model_log</td>\n",
       "      <td>0.772161</td>\n",
       "      <td>0.760170</td>\n",
       "    </tr>\n",
       "    <tr>\n",
       "      <th>2</th>\n",
       "      <td>model_sqrt</td>\n",
       "      <td>0.729201</td>\n",
       "      <td>0.714949</td>\n",
       "    </tr>\n",
       "    <tr>\n",
       "      <th>3</th>\n",
       "      <td>model_cbrt</td>\n",
       "      <td>0.744117</td>\n",
       "      <td>0.730649</td>\n",
       "    </tr>\n",
       "    <tr>\n",
       "      <th>4</th>\n",
       "      <td>model_norm</td>\n",
       "      <td>0.682271</td>\n",
       "      <td>0.665549</td>\n",
       "    </tr>\n",
       "    <tr>\n",
       "      <th>5</th>\n",
       "      <td>model_standardized</td>\n",
       "      <td>0.682271</td>\n",
       "      <td>0.665549</td>\n",
       "    </tr>\n",
       "  </tbody>\n",
       "</table>\n",
       "</div>"
      ],
      "text/plain": [
       "                Model  R-squared  Adj. R-squared\n",
       "0               Model   0.682271        0.665549\n",
       "1           model_log   0.772161        0.760170\n",
       "2          model_sqrt   0.729201        0.714949\n",
       "3          model_cbrt   0.744117        0.730649\n",
       "4          model_norm   0.682271        0.665549\n",
       "5  model_standardized   0.682271        0.665549"
      ]
     },
     "execution_count": 49,
     "metadata": {},
     "output_type": "execute_result"
    }
   ],
   "source": [
    "table"
   ]
  },
  {
   "cell_type": "code",
   "execution_count": 50,
   "id": "49585f69",
   "metadata": {},
   "outputs": [],
   "source": [
    "# Conclusion: From above table we can see that 'the log transformation regression model' is best fitting."
   ]
  },
  {
   "cell_type": "code",
   "execution_count": null,
   "id": "ae7898c9",
   "metadata": {},
   "outputs": [],
   "source": []
  }
 ],
 "metadata": {
  "kernelspec": {
   "display_name": "Python 3 (ipykernel)",
   "language": "python",
   "name": "python3"
  },
  "language_info": {
   "codemirror_mode": {
    "name": "ipython",
    "version": 3
   },
   "file_extension": ".py",
   "mimetype": "text/x-python",
   "name": "python",
   "nbconvert_exporter": "python",
   "pygments_lexer": "ipython3",
   "version": "3.10.9"
  }
 },
 "nbformat": 4,
 "nbformat_minor": 5
}
